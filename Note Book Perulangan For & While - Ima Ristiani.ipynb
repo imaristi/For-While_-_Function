{
  "nbformat": 4,
  "nbformat_minor": 0,
  "metadata": {
    "colab": {
      "name": "Note Book Perulangan For & While - Ima Ristiani.ipynb",
      "provenance": [],
      "collapsed_sections": []
    },
    "kernelspec": {
      "name": "python3",
      "display_name": "Python 3"
    },
    "language_info": {
      "name": "python"
    }
  },
  "cells": [
    {
      "cell_type": "markdown",
      "metadata": {
        "id": "o6McBbhcRby_"
      },
      "source": [
        "**NAMA : IMA RISTIANI**\n",
        "\n",
        "**NIM : 2000015027**\n",
        "\n",
        "**PRODI : MATEMATIKA**"
      ]
    },
    {
      "cell_type": "markdown",
      "metadata": {
        "id": "TA7qbK8Y8-wp"
      },
      "source": [
        "##Looping/ Perulangan"
      ]
    },
    {
      "cell_type": "markdown",
      "metadata": {
        "id": "8Q2MPKau88Ss"
      },
      "source": [
        "Python menyediakan dua statement untuk melakukan proses perulangan yaitu for dan while. Diantara kedua statement ini, secara umum for lebih banyak digunakan daripada while."
      ]
    },
    {
      "cell_type": "markdown",
      "metadata": {
        "id": "Y0dcXkAX9Huu"
      },
      "source": [
        "###For Loop"
      ]
    },
    {
      "cell_type": "markdown",
      "metadata": {
        "id": "9kEgodid9Nyo"
      },
      "source": [
        "Perulangan for digunakan untuk melakukan iterasi di dalam sequence seperti list, tuple, string, dan array atau objek yang dapat diiterasi lainnya.\n",
        "```\n",
        "for val in sequence:\n",
        "    loop body\n",
        "```\n",
        "**For Loop Flowchart**\n",
        "\n",
        "![WhatsApp Image 2021-10-19 at 12.11.33.jpeg](data:image/jpeg;base64,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)"
      ]
    },
    {
      "cell_type": "markdown",
      "metadata": {
        "id": "oeqCGqZU9lbC"
      },
      "source": [
        "**Example: Python for Loop**"
      ]
    },
    {
      "cell_type": "code",
      "metadata": {
        "colab": {
          "base_uri": "https://localhost:8080/"
        },
        "id": "394mXiLOvfpK",
        "outputId": "6650fc28-74c6-4e81-8e28-ffb3c3eb0195"
      },
      "source": [
        "# Program untuk menghitung jumlah semua angka dalam sebuah list\n",
        "L1 = [2,4,5,7,9]\n",
        "jumlah = 0\n",
        "\n",
        "# Iterasi di dalam list\n",
        "for i in L1:\n",
        "  jumlah = jumlah + i\n",
        "\n",
        "print(jumlah)"
      ],
      "execution_count": 6,
      "outputs": [
        {
          "output_type": "stream",
          "name": "stdout",
          "text": [
            "27\n"
          ]
        }
      ]
    },
    {
      "cell_type": "markdown",
      "metadata": {
        "id": "-nz_AWRO902n"
      },
      "source": [
        "###The Range() Function"
      ]
    },
    {
      "cell_type": "code",
      "metadata": {
        "colab": {
          "base_uri": "https://localhost:8080/"
        },
        "id": "XB2H83Bb9_rF",
        "outputId": "636deae2-041b-49fe-a112-bdf5161ee290"
      },
      "source": [
        "# Program untuk melakukan iterasi di dalam list melalui indeks \n",
        "minuman = [\"teh\",\"boba\",\"kopi\",\"susu\"]\n",
        "p = len(minuman)\n",
        "\n",
        "# Iterasi di dalam list melalui indeks\n",
        "for i in range (p) :\n",
        "  print(minuman[i])"
      ],
      "execution_count": 7,
      "outputs": [
        {
          "output_type": "stream",
          "name": "stdout",
          "text": [
            "teh\n",
            "boba\n",
            "kopi\n",
            "susu\n"
          ]
        }
      ]
    },
    {
      "cell_type": "markdown",
      "metadata": {
        "id": "XPrOBn0x973w"
      },
      "source": [
        "###For Loop with Else"
      ]
    },
    {
      "cell_type": "code",
      "metadata": {
        "colab": {
          "base_uri": "https://localhost:8080/"
        },
        "id": "6TnKCOJ1-hUH",
        "outputId": "91e784e9-9463-4f17-8052-f55c429010ca"
      },
      "source": [
        "# Contoh for loop menggunakan else\n",
        "for i in range(p):\n",
        "  print(minuman[i])\n",
        "else:\n",
        "  print(\"Elemen sudah habis\")"
      ],
      "execution_count": 8,
      "outputs": [
        {
          "output_type": "stream",
          "name": "stdout",
          "text": [
            "teh\n",
            "boba\n",
            "kopi\n",
            "susu\n",
            "Elemen sudah habis\n"
          ]
        }
      ]
    },
    {
      "cell_type": "markdown",
      "metadata": {
        "id": "zrix0kQdRjNb"
      },
      "source": [
        "###While Loop"
      ]
    },
    {
      "cell_type": "markdown",
      "metadata": {
        "id": "Xzu3gg1nRpl0"
      },
      "source": [
        "While loop pada Python digunakan untuk melakukan iterasi pada blok kode selama nilai dari test ecxpression adalah true.\n",
        "\n",
        "**Syntax of while Loop in Python**\n",
        "```\n",
        "while test_expression:\n",
        "    Body of while\n",
        "```\n",
        "**While Loop Flowchart**\n",
        "\n",
        "![WhatsApp Image 2021-10-19 at 13.49.04.jpeg](data:image/jpeg;base64,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)"
      ]
    },
    {
      "cell_type": "markdown",
      "metadata": {
        "id": "95emRSh8UOJF"
      },
      "source": [
        "**Example: Python While Loop**"
      ]
    },
    {
      "cell_type": "code",
      "metadata": {
        "colab": {
          "base_uri": "https://localhost:8080/"
        },
        "id": "MfWLUG9KUXMA",
        "outputId": "dcbc4566-4cd8-44e3-98be-883ffff3383c"
      },
      "source": [
        "# Program untuk menjumlahkan semua bilangan asli hingga suku ke-n\n",
        "# jum = 1+2+3+...+n\n",
        "n = 10\n",
        "jumlah = 0\n",
        "i = 1\n",
        "\n",
        "while i <= n:\n",
        "  jumlah = jumlah + i\n",
        "  i = i + 1\n",
        "\n",
        "print(jumlah)"
      ],
      "execution_count": 9,
      "outputs": [
        {
          "output_type": "stream",
          "name": "stdout",
          "text": [
            "55\n"
          ]
        }
      ]
    },
    {
      "cell_type": "markdown",
      "metadata": {
        "id": "U8WtHMYhU8mN"
      },
      "source": [
        "###While Loop with Else"
      ]
    },
    {
      "cell_type": "markdown",
      "metadata": {
        "id": "o_rwJqp0VCH9"
      },
      "source": [
        "Sama dengan `for loop` kita juga mengkombinasikan `while loop` dengan blok `else`.\n",
        "\n",
        "Bagian `else` akan dieksekusi jika nilai pada `test expression` pada `while loop` bernilai `False`. Perhatikan contoh berikut:"
      ]
    },
    {
      "cell_type": "code",
      "metadata": {
        "colab": {
          "base_uri": "https://localhost:8080/"
        },
        "id": "18fC8mXiVi82",
        "outputId": "0b6721ab-104a-4a1f-ce0c-f61b7721e3f9"
      },
      "source": [
        "jum = 0\n",
        "i = 1\n",
        "while i <= n:\n",
        "  jum = jum + i\n",
        "  i = i + 1\n",
        "else:\n",
        "  print(jum) # dieksekusi diluar looping"
      ],
      "execution_count": 10,
      "outputs": [
        {
          "output_type": "stream",
          "name": "stdout",
          "text": [
            "55\n"
          ]
        }
      ]
    }
  ]
}