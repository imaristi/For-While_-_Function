{
  "nbformat": 4,
  "nbformat_minor": 0,
  "metadata": {
    "colab": {
      "name": "Note Book Function - Ima Ristiani.ipynb",
      "provenance": [],
      "collapsed_sections": []
    },
    "kernelspec": {
      "name": "python3",
      "display_name": "Python 3"
    },
    "language_info": {
      "name": "python"
    }
  },
  "cells": [
    {
      "cell_type": "markdown",
      "metadata": {
        "id": "197lWrk9HpYu"
      },
      "source": [
        "**NAMA : IMA RISTIANI**\n",
        "\n",
        "**NIM : 2000015027**\n",
        "\n",
        "**PRODI : MATEMATIKA**"
      ]
    },
    {
      "cell_type": "markdown",
      "metadata": {
        "id": "KGwED4E7HwDj"
      },
      "source": [
        "##Function"
      ]
    },
    {
      "cell_type": "markdown",
      "metadata": {
        "id": "Znux1v-0I_8t"
      },
      "source": [
        ""
      ]
    },
    {
      "cell_type": "markdown",
      "metadata": {
        "id": "7iN08D7PIOsH"
      },
      "source": [
        "Function (Fungsi) adalah sebuah blok statement yang hanya akan dijalankan saat ia dipanggil.\n",
        "\n",
        "Fungsi `len()` untuk mengukur jumlah elemen dalam sebuah list dan fungsi `print()` untuk menampilkan pesan pada layar konsol meropakan contoh dari bentuk fungsi yang telah disediakan oleh bahasa pemrograman Python atau dengan kata lain build-in functions.\n",
        "\n",
        "Selain fungsi yang telah disediakan oleh Python, Python mengizinkan untuk mendeklarasikan fungsi dalam kode yang dituliskan yang dikenal dengan user defined function.\n",
        "```\n",
        "def nama_fungsi9(argument):\n",
        "    statement_1\n",
        "    _\n",
        "    statement_n\n",
        "    return returned_value\n",
        "```\n",
        "*   **nama_fungsi** adalah nama untuk fungsi yang Anda definisikan, memiliki aturan seperti penamaan variabel.\n",
        "*   **argument** adalah variabel masukkan ke fungsi, bisa tanpa variabel atau lebih.\n",
        "*   **statement1**...statement_n adalah algoritma yang telah Anda transfer dalam bahasa Python yang merupakan inti dari fungsi yang Anda definisikan. Seluruh statement adalah menjorok (indent) ke dalam seperti yang pernah Anda pelajari pada conditioning dan looping.\n",
        "*   ** return_value** adalah variabel output dari fungsi anda, bisa tanpa variabel, satu variabel atau lebih.\n",
        "\n",
        "\n",
        "\n",
        "\n"
      ]
    },
    {
      "cell_type": "markdown",
      "metadata": {
        "id": "2OSE2cK4MnOB"
      },
      "source": [
        "##Argumen dan Paramenter"
      ]
    },
    {
      "cell_type": "markdown",
      "metadata": {
        "id": "EP67QCfnMxyR"
      },
      "source": [
        "*   **Parameter** adalah variabel yang digunakan dalam deklarasi fungsi.\n",
        "*   **Argumen** adalah nilai yang diberikan saat pemanggilan fungsi.\n",
        "\n"
      ]
    },
    {
      "cell_type": "code",
      "metadata": {
        "id": "pCowHurkCiYq",
        "colab": {
          "base_uri": "https://localhost:8080/"
        },
        "outputId": "82502f5a-5d26-45a9-985f-69eb4200c13d"
      },
      "source": [
        "def print_nama(nama):  # 'nama' adalah parameter\n",
        "    print(nama)\n",
        "\n",
        "print_nama('Budi') # 'Budi' adalah argumen"
      ],
      "execution_count": 1,
      "outputs": [
        {
          "output_type": "stream",
          "name": "stdout",
          "text": [
            "Budi\n"
          ]
        }
      ]
    },
    {
      "cell_type": "markdown",
      "metadata": {
        "id": "5Xm5Gk_BNS0T"
      },
      "source": [
        "###Argumen Posisi dan Kata Kunci"
      ]
    },
    {
      "cell_type": "markdown",
      "metadata": {
        "id": "QSiSVIIDNWU8"
      },
      "source": [
        "Kita bisa menyatakan argumen sebagai argumen posisi atau kata kunci. Beberapa manfaat argumen kata kunci dapat berupa:\n",
        "*   Kita dapat menyebut argumen dengan nama mereka untuk memperjelas apa yang mereka wakili.\n",
        "*   Kita dapat mengatur ulang argumen dengan cara yang membuatnya peling mudah dibaca\n",
        "\n"
      ]
    },
    {
      "cell_type": "code",
      "metadata": {
        "colab": {
          "base_uri": "https://localhost:8080/"
        },
        "id": "ydnJzRudN6ky",
        "outputId": "a166d82e-8df9-423a-bf77-c4de8f3d8c75"
      },
      "source": [
        "def angka(a, b, c):\n",
        "    print(a, b, c)\n",
        "\n",
        "# argumen posisi\n",
        "# argumen berdasarkan posisinya\n",
        "angka(1, 2, 3)\n",
        "\n",
        "#argumen berdasarkan kata kuncinya\n",
        "angka(a=1, b=2, c=3)\n",
        "angka(c=3, b=2, a=1)\n",
        "# Catatan: jika sudah diberi kunci maka urutan tidak menjadi penting\n",
        "\n",
        "# Campuran antara argumen posisi dan argumen kata kunci\n",
        "angka(1, b=2, c=3)\n",
        "\n",
        "# Ini tidak diijinkan:\n",
        "# foo(1, b=2, 3) # argumen posisional setelah argumen kunci\n",
        "# foo(1, b=2, a=3) # terdapat dua nilai untuk argumen kunci 'a'"
      ],
      "execution_count": 2,
      "outputs": [
        {
          "output_type": "stream",
          "name": "stdout",
          "text": [
            "1 2 3\n",
            "1 2 3\n",
            "1 2 3\n",
            "1 2 3\n"
          ]
        }
      ]
    },
    {
      "cell_type": "markdown",
      "metadata": {
        "id": "how3XZxKOFkf"
      },
      "source": [
        "###Argumen Default"
      ]
    },
    {
      "cell_type": "markdown",
      "metadata": {
        "id": "vWIpswwIOK2g"
      },
      "source": [
        "Fungsi dapat memiliki argumen default dengan nilai yang telah ditentukan sebelumnya. Argumen ini dapat ditinggalkan dan nilai default kemudian diteruskan ke fungsi, atau argumen dapat dirubah dengan nilai yang berbeda. Perhatikan bahwa argumen default harus ditentukan sebagai **parameter terakhir** dalam suatu fungsi.\n"
      ]
    },
    {
      "cell_type": "code",
      "metadata": {
        "colab": {
          "base_uri": "https://localhost:8080/"
        },
        "id": "fgPvova4OUh2",
        "outputId": "98024f0e-b20b-44e2-9d9a-5603726add3b"
      },
      "source": [
        "# Argumen default \n",
        "def angka2(a,b,c,d=4):\n",
        "    print(a,b,c,d)\n",
        "\n",
        "angka2(1,2,3,4)\n",
        "angka2(1,b=2,c=3,d=100)\n",
        "\n",
        "# Argumen default harus diletakkan terakhir"
      ],
      "execution_count": 3,
      "outputs": [
        {
          "output_type": "stream",
          "name": "stdout",
          "text": [
            "1 2 3 4\n",
            "1 2 3 100\n"
          ]
        }
      ]
    },
    {
      "cell_type": "markdown",
      "metadata": {
        "id": "zxRhZLIGOabo"
      },
      "source": [
        "###Praktik Membuat Fungsi"
      ]
    },
    {
      "cell_type": "code",
      "metadata": {
        "colab": {
          "base_uri": "https://localhost:8080/"
        },
        "id": "fSI1a4DAOg0h",
        "outputId": "7af22567-9a7d-47cd-ced4-e721fee26c90"
      },
      "source": [
        "x = 1\n",
        "y = 2\n",
        "x*y"
      ],
      "execution_count": 4,
      "outputs": [
        {
          "output_type": "execute_result",
          "data": {
            "text/plain": [
              "2"
            ]
          },
          "metadata": {},
          "execution_count": 4
        }
      ]
    },
    {
      "cell_type": "code",
      "metadata": {
        "colab": {
          "base_uri": "https://localhost:8080/"
        },
        "id": "aSsi8FncOlOq",
        "outputId": "40bc7c6f-a356-4e20-c844-4cc3cd4f375d"
      },
      "source": [
        "def penjumlahan(x,y): #input\n",
        "  a = x+y             #proses\n",
        "  return a            #output\n",
        "\n",
        "penjumlahan(1,2)      #menggunakan fungsi"
      ],
      "execution_count": 5,
      "outputs": [
        {
          "output_type": "execute_result",
          "data": {
            "text/plain": [
              "3"
            ]
          },
          "metadata": {},
          "execution_count": 5
        }
      ]
    },
    {
      "cell_type": "markdown",
      "metadata": {
        "id": "jZcnSKUbOpxy"
      },
      "source": [
        "Penjumlahan yang memungkinkan untuk tiga bilangan"
      ]
    },
    {
      "cell_type": "code",
      "metadata": {
        "colab": {
          "base_uri": "https://localhost:8080/"
        },
        "id": "S2PnypqyOwvn",
        "outputId": "37050950-5422-42e6-dfd8-d55e76fb12d9"
      },
      "source": [
        "def penjumlahan(x,y,z=None):\n",
        "    if (z==None):\n",
        "        return x+y\n",
        "    else:\n",
        "        return x+y+z\n",
        "\n",
        "print(penjumlahan(1,2))\n",
        "print(penjumlahan(1,2,3))"
      ],
      "execution_count": 6,
      "outputs": [
        {
          "output_type": "stream",
          "name": "stdout",
          "text": [
            "3\n",
            "6\n"
          ]
        }
      ]
    },
    {
      "cell_type": "markdown",
      "metadata": {
        "id": "6hu4SoTGO0-J"
      },
      "source": [
        "Menyimpan hasil fungsi dalam variabel"
      ]
    },
    {
      "cell_type": "code",
      "metadata": {
        "colab": {
          "base_uri": "https://localhost:8080/"
        },
        "id": "EbHZmdR7O3dU",
        "outputId": "9952a5e3-ed51-4f67-95c3-c4f39361f26b"
      },
      "source": [
        "def penjumlahan(x,y):\n",
        "    return x+y\n",
        "\n",
        "a = penjumlahan\n",
        "a(1,2)"
      ],
      "execution_count": 7,
      "outputs": [
        {
          "output_type": "execute_result",
          "data": {
            "text/plain": [
              "3"
            ]
          },
          "metadata": {},
          "execution_count": 7
        }
      ]
    }
  ]
}